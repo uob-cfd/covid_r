{
 "cells": [
  {
   "cell_type": "markdown",
   "metadata": {},
   "source": [
    "# COVID, probability and the R value"
   ]
  },
  {
   "cell_type": "code",
   "execution_count": null,
   "metadata": {},
   "outputs": [],
   "source": [
    "# Don't change this cell; just run it.\n",
    "import numpy as np  # The array library.\n",
    "\n",
    "# The OKpy testing system.\n",
    "from client.api.notebook import Notebook\n",
    "ok = Notebook('covid_r.ok')"
   ]
  },
  {
   "cell_type": "markdown",
   "metadata": {},
   "source": [
    "As y'all know, the [R number of a\n",
    "disease](https://en.wikipedia.org/wiki/Basic_reproduction_number) is an index\n",
    "of its spread.\n",
    "\n",
    "Here we are discussing COVID-19 - an infectious disease.  The $R_t$ number for\n",
    "COVID-19 is the average number of new infections we expect per existing\n",
    "infection, at any particular time $t$.  The time $t$ is usually \"now\".\n",
    "\n",
    "For example, an $R_t$ of 2.5 means that we expect each person with a COVID-19\n",
    "infection to infect an average of 2.5 people.  As consequence, the number of\n",
    "infections grows very quickly.\n",
    "\n",
    "The $R_t$ number depends on many things.  We will think about some of them in\n",
    "this page.\n",
    "\n",
    "To make $R_t$ a bit easier to write, we will use \"RT\"."
   ]
  },
  {
   "cell_type": "markdown",
   "metadata": {},
   "source": [
    "## Factors for RT\n",
    "\n",
    "In order to pass on the disease, the infected person has to come in contact\n",
    "with a person who is susceptible.\n",
    "\n",
    "Let us say that, with no precautions, there is a 0.25 chance of an infected\n",
    "person passing on the disease to susceptible person that they come in contact\n",
    "with.  Call this the *transmission probability* or TP for short."
   ]
  },
  {
   "cell_type": "code",
   "execution_count": null,
   "metadata": {},
   "outputs": [],
   "source": [
    "# Transmission probability\n",
    "TP = 0.25"
   ]
  },
  {
   "cell_type": "markdown",
   "metadata": {},
   "source": [
    "Now let us say, with no precautions, any given person comes into effective\n",
    "contact with 10 people.  *Effective contact* is contact such that the contact\n",
    "has the expected probability TP of passing on the disease.  Call *the number of\n",
    "effective contacts* - ECN. So, ECN = 10."
   ]
  },
  {
   "cell_type": "code",
   "execution_count": null,
   "metadata": {},
   "outputs": [],
   "source": [
    "# Effective contact number.\n",
    "ECN = 10"
   ]
  },
  {
   "cell_type": "markdown",
   "metadata": {},
   "source": [
    "Let us assume that all ECN=10 of those people are susceptible.\n",
    "\n",
    "We can use simulation to show that this very simple model does indeed end up\n",
    "with an estimated RT of 2.5.\n",
    "\n",
    "For each single trial, we simulate one infected person infecting not-infected\n",
    "people.\n",
    "\n",
    "Here's one trial (one person):"
   ]
  },
  {
   "cell_type": "code",
   "execution_count": null,
   "metadata": {},
   "outputs": [],
   "source": [
    "randoms = np.random.uniform(0, 1, size=ECN)\n",
    "# True if simulated infection, False otherwise.\n",
    "new_cases = randoms < TP\n",
    "new_case_count = np.count_nonzero(new_cases)\n",
    "new_case_count"
   ]
  },
  {
   "cell_type": "markdown",
   "metadata": {},
   "source": [
    "Here we do many trials (simulate many infected people), and take the average."
   ]
  },
  {
   "cell_type": "code",
   "execution_count": null,
   "metadata": {},
   "outputs": [],
   "source": [
    "# Remind us of our assumed constants.\n",
    "TP = 0.25\n",
    "ECN = 10\n",
    "n_iters = 10000\n",
    "new_case_counts = np.zeros(n_iters)\n",
    "for i in np.arange(n_iters):\n",
    "    # Give ECN people a TP chance of being infected.\n",
    "    randoms = np.random.uniform(0, 1, size=ECN)\n",
    "    # True if simulated infection, False otherwise.\n",
    "    new_cases = randoms < TP\n",
    "    new_case_counts[i] = np.count_nonzero(new_cases)\n",
    "est_RT = np.mean(new_case_counts)\n",
    "# Show the result.\n",
    "est_RT"
   ]
  },
  {
   "cell_type": "markdown",
   "metadata": {},
   "source": [
    "When the RT value is 1, the infection is in steady state; the number of\n",
    "infections does not change over time.  We want an RT value below 1, so the\n",
    "infection numbers reduce over time.\n",
    "\n",
    "Now assume that we have succeeded in implementing a universal mask-wearing\n",
    "policy.   This reduces the TP by half, from 0.25 to 0.125.  What is the RT now?"
   ]
  },
  {
   "cell_type": "code",
   "execution_count": null,
   "metadata": {},
   "outputs": [],
   "source": [
    "#- Remind us of our assumed constants.\n",
    "TP_masked = 0.125\n",
    "ECN = 10\n",
    "est_RT_masked = ...\n",
    "# Show the result.\n",
    "est_RT_masked"
   ]
  },
  {
   "cell_type": "code",
   "execution_count": null,
   "metadata": {},
   "outputs": [],
   "source": [
    "_ = ok.grade('q_est_RT_masked')"
   ]
  },
  {
   "cell_type": "markdown",
   "metadata": {},
   "source": [
    "OK - that didn't quite cut it.  Now we want to add new measures, called\n",
    "\"lockdowns\", that reduce the number of effective contacts (ECN) per person.\n",
    "\n",
    "Say that, as well as the reduced TP - `TP_masked`, we also reduce ECN -\n",
    "`ECN_lockdown` - to 7 instead of 10.  What number do we estimate for RT now?"
   ]
  },
  {
   "cell_type": "code",
   "execution_count": null,
   "metadata": {},
   "outputs": [],
   "source": [
    "#- Remind us of our assumed constants.\n",
    "TP_masked = 0.125\n",
    "ECN_lockdown = 7\n",
    "est_RT_masked_ld = ...\n",
    "# Show the result.\n",
    "est_RT_masked_ld"
   ]
  },
  {
   "cell_type": "code",
   "execution_count": null,
   "metadata": {
    "lines_to_next_cell": 2
   },
   "outputs": [],
   "source": [
    "_ = ok.grade('q_est_RT_masked_ld')"
   ]
  },
  {
   "cell_type": "markdown",
   "metadata": {},
   "source": [
    "Nice - problem sorted.\n",
    "\n",
    "But wait - it turns out that wearing a mask makes you look really uncool.  In\n",
    "order to express their devil-may-care individuality and skepticism of\n",
    "constituted authority, 15% of people decide that wearing a mask is not for\n",
    "them.  Therefore, call the probability of wearing a mask - `P_mask`.  `P_mask =\n",
    "0.85`.  Assume that wearing a mask only affects the probability that an\n",
    "infected person passes on the disease; it does not reduce the probability that\n",
    "a susceptible person will get the disease.  Thus, a mask wearer give their\n",
    "contacts a 0.125 chance of getting the disease, but someone who is too cool to\n",
    "wear a mask, gives each contact a 0.25 chance of getting the disease.\n",
    "\n",
    "Keeping our locked down ECN, what is the RT now?\n",
    "\n",
    "*Hint*: remember, each trial is one infected person.\n",
    "*Hint*: you may want a conditional statement somewhere."
   ]
  },
  {
   "cell_type": "code",
   "execution_count": null,
   "metadata": {},
   "outputs": [],
   "source": [
    "#- Remind us of our assumed constants.\n",
    "TP = 0.25\n",
    "TP_masked = 0.125\n",
    "ECN_lockdown = 7\n",
    "P_mask = 0.85\n",
    "est_RT_part_masked = ...\n",
    "# Show the result.\n",
    "est_RT_part_masked"
   ]
  },
  {
   "cell_type": "code",
   "execution_count": null,
   "metadata": {},
   "outputs": [],
   "source": [
    "_ = ok.grade('q_est_RT_part_masked')"
   ]
  },
  {
   "cell_type": "markdown",
   "metadata": {},
   "source": [
    "It looks like things are going to work out more or less OK.\n",
    "\n",
    "But wait, it turns out that the same people who don't wear masks, also don't\n",
    "obey the lockdown restrictions.\n",
    "\n",
    "Specifically, those 15% of people who don't wear masks, also have more\n",
    "contacts.  In fact, they have the same number of effective contacts as they do\n",
    "without lockdown - 10.  Now what is the RT number?"
   ]
  },
  {
   "cell_type": "code",
   "execution_count": null,
   "metadata": {},
   "outputs": [],
   "source": [
    "#- Remind us of our assumed constants.\n",
    "TP = 0.25\n",
    "TP_masked = 0.125\n",
    "ECN = 10\n",
    "ECN_lockdown = 7\n",
    "P_mask = 0.85\n",
    "est_RT_part_everything = ...\n",
    "# Show the result.\n",
    "est_RT_part_everything"
   ]
  },
  {
   "cell_type": "code",
   "execution_count": null,
   "metadata": {},
   "outputs": [],
   "source": [
    "_ = ok.grade('q_est_RT_part_everything')"
   ]
  },
  {
   "cell_type": "markdown",
   "metadata": {},
   "source": [
    "## Challenge problem\n",
    "\n",
    "We go back to the original situation, with no lockdown, and no masks."
   ]
  },
  {
   "cell_type": "code",
   "execution_count": null,
   "metadata": {},
   "outputs": [],
   "source": [
    "# Remind us of our assumed constants.\n",
    "TP = 0.25\n",
    "ECN = 10\n",
    "n_iters = 10000\n",
    "new_case_counts = np.zeros(n_iters)\n",
    "for i in np.arange(n_iters):\n",
    "    # Give ECN people a TP chance of being infected.\n",
    "    randoms = np.random.uniform(0, 1, size=ECN)\n",
    "    # True if simulated infection, False otherwise.\n",
    "    new_cases = randoms < TP\n",
    "    new_case_counts[i] = np.count_nonzero(new_cases)\n",
    "est_RT = np.mean(new_case_counts)\n",
    "# Show the result.\n",
    "est_RT"
   ]
  },
  {
   "cell_type": "markdown",
   "metadata": {},
   "source": [
    "Just as a note, we could work this particular answer out using simple\n",
    "probability.  You can think of probabilities as proportions, and proportions as\n",
    "probabilities.  In this case we have said that the probability of passing on\n",
    "the infection is `TP = 0.25`.  This is the same as saying that, in the long\n",
    "run, 0.25 is the *proportion* of people who will get the infection.  So, in\n",
    "this case, we can calculate the long-run RT by simply multiplying the number of\n",
    "susceptible people `ECN` by the probability=proportion who will get sick:"
   ]
  },
  {
   "cell_type": "code",
   "execution_count": null,
   "metadata": {},
   "outputs": [],
   "source": [
    "# RT by calculation, in this simple case:\n",
    "RT_by_calculation = TP * ECN\n",
    "RT_by_calculation"
   ]
  },
  {
   "cell_type": "markdown",
   "metadata": {},
   "source": [
    "You will see that, if you go up to the simulation cell above, and change the\n",
    "number of iterations to, say, 1000000, your estimate for RT gets even closer to\n",
    "the value you got from calculation above.  This is exactly what we mean by the\n",
    "*long run* in the paragraph above.\n",
    "\n",
    "Now we are going to vaccinate some proportion of the population.  Call this\n",
    "proportion `P_vaccinate`.  Assume vaccination gives 100% protection against\n",
    "getting the disease.  What does `P_vaccinate` have to be, such that `est_RT`\n",
    "above is 1."
   ]
  },
  {
   "cell_type": "code",
   "execution_count": null,
   "metadata": {},
   "outputs": [],
   "source": [
    "#- Your code here.  Or make a text cell and reason it out.\n",
    "est_P_vaccinate = ...\n",
    "print('Estimate for vaccination proportion', est_P_vaccinate)"
   ]
  },
  {
   "cell_type": "code",
   "execution_count": null,
   "metadata": {},
   "outputs": [],
   "source": [
    "_ = ok.grade('q_est_P_vaccinate')"
   ]
  },
  {
   "cell_type": "markdown",
   "metadata": {},
   "source": [
    "## Done.\n",
    "\n",
    "Congratulations, you're done with the assignment!  Be sure to:\n",
    "\n",
    "- **run all the tests** (the next cell has a shortcut for that).\n",
    "- **Save and Checkpoint** from the `File` menu."
   ]
  },
  {
   "cell_type": "code",
   "execution_count": null,
   "metadata": {},
   "outputs": [],
   "source": [
    "# For your convenience, you can run this cell to run all the tests at once!\n",
    "import os\n",
    "_ = [ok.grade(q[:-3]) for q in os.listdir(\"tests\") if q.startswith('q')]"
   ]
  }
 ],
 "metadata": {
  "jupytext": {
   "notebook_metadata_filter": "all,-language_info",
   "split_at_heading": true,
   "text_representation": {
    "extension": ".Rmd",
    "format_name": "rmarkdown",
    "format_version": "1.1",
    "jupytext_version": "1.2.4"
   }
  },
  "kernelspec": {
   "display_name": "Python 3",
   "language": "python",
   "name": "python3"
  }
 },
 "nbformat": 4,
 "nbformat_minor": 4
}
